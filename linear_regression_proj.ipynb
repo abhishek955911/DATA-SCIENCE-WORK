{
 "cells": [
  {
   "cell_type": "code",
   "execution_count": 2,
   "id": "fae9e4be-ec5a-4cdb-9d0b-68bfebab0181",
   "metadata": {},
   "outputs": [
    {
     "data": {
      "text/html": [
       "<div>\n",
       "<style scoped>\n",
       "    .dataframe tbody tr th:only-of-type {\n",
       "        vertical-align: middle;\n",
       "    }\n",
       "\n",
       "    .dataframe tbody tr th {\n",
       "        vertical-align: top;\n",
       "    }\n",
       "\n",
       "    .dataframe thead th {\n",
       "        text-align: right;\n",
       "    }\n",
       "</style>\n",
       "<table border=\"1\" class=\"dataframe\">\n",
       "  <thead>\n",
       "    <tr style=\"text-align: right;\">\n",
       "      <th></th>\n",
       "      <th>TV</th>\n",
       "      <th>Radio</th>\n",
       "      <th>Newspaper</th>\n",
       "      <th>Sales</th>\n",
       "    </tr>\n",
       "  </thead>\n",
       "  <tbody>\n",
       "    <tr>\n",
       "      <th>0</th>\n",
       "      <td>230.1</td>\n",
       "      <td>37.8</td>\n",
       "      <td>69.2</td>\n",
       "      <td>22.1</td>\n",
       "    </tr>\n",
       "    <tr>\n",
       "      <th>1</th>\n",
       "      <td>44.5</td>\n",
       "      <td>39.3</td>\n",
       "      <td>45.1</td>\n",
       "      <td>10.4</td>\n",
       "    </tr>\n",
       "    <tr>\n",
       "      <th>2</th>\n",
       "      <td>17.2</td>\n",
       "      <td>45.9</td>\n",
       "      <td>69.3</td>\n",
       "      <td>12.0</td>\n",
       "    </tr>\n",
       "    <tr>\n",
       "      <th>3</th>\n",
       "      <td>151.5</td>\n",
       "      <td>41.3</td>\n",
       "      <td>58.5</td>\n",
       "      <td>16.5</td>\n",
       "    </tr>\n",
       "    <tr>\n",
       "      <th>4</th>\n",
       "      <td>180.8</td>\n",
       "      <td>10.8</td>\n",
       "      <td>58.4</td>\n",
       "      <td>17.9</td>\n",
       "    </tr>\n",
       "    <tr>\n",
       "      <th>...</th>\n",
       "      <td>...</td>\n",
       "      <td>...</td>\n",
       "      <td>...</td>\n",
       "      <td>...</td>\n",
       "    </tr>\n",
       "    <tr>\n",
       "      <th>195</th>\n",
       "      <td>38.2</td>\n",
       "      <td>3.7</td>\n",
       "      <td>13.8</td>\n",
       "      <td>7.6</td>\n",
       "    </tr>\n",
       "    <tr>\n",
       "      <th>196</th>\n",
       "      <td>94.2</td>\n",
       "      <td>4.9</td>\n",
       "      <td>8.1</td>\n",
       "      <td>14.0</td>\n",
       "    </tr>\n",
       "    <tr>\n",
       "      <th>197</th>\n",
       "      <td>177.0</td>\n",
       "      <td>9.3</td>\n",
       "      <td>6.4</td>\n",
       "      <td>14.8</td>\n",
       "    </tr>\n",
       "    <tr>\n",
       "      <th>198</th>\n",
       "      <td>283.6</td>\n",
       "      <td>42.0</td>\n",
       "      <td>66.2</td>\n",
       "      <td>25.5</td>\n",
       "    </tr>\n",
       "    <tr>\n",
       "      <th>199</th>\n",
       "      <td>232.1</td>\n",
       "      <td>8.6</td>\n",
       "      <td>8.7</td>\n",
       "      <td>18.4</td>\n",
       "    </tr>\n",
       "  </tbody>\n",
       "</table>\n",
       "<p>200 rows × 4 columns</p>\n",
       "</div>"
      ],
      "text/plain": [
       "        TV  Radio  Newspaper  Sales\n",
       "0    230.1   37.8       69.2   22.1\n",
       "1     44.5   39.3       45.1   10.4\n",
       "2     17.2   45.9       69.3   12.0\n",
       "3    151.5   41.3       58.5   16.5\n",
       "4    180.8   10.8       58.4   17.9\n",
       "..     ...    ...        ...    ...\n",
       "195   38.2    3.7       13.8    7.6\n",
       "196   94.2    4.9        8.1   14.0\n",
       "197  177.0    9.3        6.4   14.8\n",
       "198  283.6   42.0       66.2   25.5\n",
       "199  232.1    8.6        8.7   18.4\n",
       "\n",
       "[200 rows x 4 columns]"
      ]
     },
     "execution_count": 2,
     "metadata": {},
     "output_type": "execute_result"
    }
   ],
   "source": [
    "import numpy as np\n",
    "import pandas as pd\n",
    "df=pd.read_csv(\"Downloads\\\\adverti.csv\")\n",
    "df"
   ]
  },
  {
   "cell_type": "code",
   "execution_count": 8,
   "id": "d7c5160c-0f5c-4b05-adf9-ca2fe28a97ca",
   "metadata": {},
   "outputs": [],
   "source": [
    "from sklearn.model_selection import train_test_split as tts\n",
    "xt ,xte,yt,yte=tts(df.drop(\"Sales\",axis=1),df[\"Sales\"],test_size=0.2,random_state=42)"
   ]
  },
  {
   "cell_type": "markdown",
   "id": "01217804-7453-41d7-890c-c7887755bc59",
   "metadata": {},
   "source": [
    "APPLYING LINAR REGRESSION "
   ]
  },
  {
   "cell_type": "code",
   "execution_count": 36,
   "id": "c4c02bb6-ea12-469a-a9ca-25b0b5fc4937",
   "metadata": {},
   "outputs": [],
   "source": [
    "from sklearn.linear_model import LinearRegression \n",
    "lr=LinearRegression()\n",
    "lr.fit(xt,yt)\n",
    "y_pred=lr.predict(xt)"
   ]
  },
  {
   "cell_type": "code",
   "execution_count": 38,
   "id": "dc6383db-ded2-490b-924a-224121b281d1",
   "metadata": {},
   "outputs": [
    {
     "data": {
      "text/plain": [
       "array([11.91465765, 15.32881375,  9.91093345,  9.46132618, 17.23412363,\n",
       "        7.22972412, 10.35454191, 15.23876611, 11.14036535, 11.71856758,\n",
       "       13.85060866, 14.66570876, 10.44983379,  9.28550764,  9.02357336,\n",
       "       12.47875166, 10.48712079, 24.99748731,  7.88523289, 15.8640533 ,\n",
       "       21.30888748, 17.00814942, 12.79206695,  9.84041429, 21.01070892,\n",
       "        7.48343928, 23.52204082,  7.05636619, 12.56968457, 10.08676368,\n",
       "       11.1715446 ,  9.12566707, 16.92180225, 17.90167068, 15.63428805,\n",
       "       18.26514616, 15.51584207, 19.23176429, 17.48701831, 21.82555114,\n",
       "       10.58560762, 14.22101675, 10.75778538, 18.10690693,  9.94580615,\n",
       "       17.38762989, 13.21321157, 23.7057409 , 11.04124955, 23.50498043,\n",
       "        7.25377772, 19.17388849, 24.9725586 , 21.21199698, 18.85730214,\n",
       "       16.49383903, 13.90044002, 11.26132856, 19.58689909, 15.32197517,\n",
       "       15.91287266, 10.29394498, 20.24916557, 12.59260311, 21.37507598,\n",
       "       11.62060518,  9.00761916, 19.44123849, 15.85637182, 18.5764323 ,\n",
       "        9.57905955, 21.37254028, 24.69974685, 18.22258697, 18.82367855,\n",
       "       14.9707016 , 16.30608241,  8.86438172, 17.37327271, 21.11096152,\n",
       "       18.14037337,  5.57959415,  6.1332995 , 14.44267086, 19.48248709,\n",
       "       18.97818971, 20.82881496, 23.10921728, 18.3593478 , 21.08665301,\n",
       "       19.08752475, 22.06036098, 12.02892661, 17.12211276, 16.95452306,\n",
       "        9.76141119, 17.39501824, 17.17068183, 19.58575617, 20.27251654,\n",
       "       13.54873033, 20.13179451, 20.52616105,  9.70144596, 11.67058309,\n",
       "       10.10407832, 13.29497496, 18.09509227,  6.56761894, 13.08901378,\n",
       "       21.39081315, 17.28833116, 15.74733631,  5.39922804, 10.82718892,\n",
       "       19.21744877, 15.99621659, 19.64920239, 24.29245646,  9.5898691 ,\n",
       "       24.92524356, 10.90649352, 16.59569044, 25.04301452, 13.33663908,\n",
       "       22.00989097,  9.7726583 , 16.06805732, 10.37865883, 21.37506225,\n",
       "       18.90996814, 12.41971163, 18.27135985, 14.14842839, 16.07722174,\n",
       "        6.20259989,  9.36113277, 13.9708546 , 13.11622466, 18.06158993,\n",
       "       11.30252447, 20.89108544,  9.84441608,  8.78744807, 12.36888392,\n",
       "       16.7703046 , 16.49225352, 13.85635374, 15.12076048, 18.88647079,\n",
       "        8.14798206, 18.27158711, 19.64671463, 21.72296399, 12.28023473,\n",
       "        7.31605557, 19.36005676, 20.21832647, 14.82664026, 21.09997649])"
      ]
     },
     "execution_count": 38,
     "metadata": {},
     "output_type": "execute_result"
    }
   ],
   "source": [
    "y_pred"
   ]
  },
  {
   "cell_type": "markdown",
   "id": "23e6de85-b62e-42e0-bb81-da74c3aac219",
   "metadata": {},
   "source": [
    "ERROR CHECKING "
   ]
  },
  {
   "cell_type": "code",
   "execution_count": 40,
   "id": "920825dd-d16c-4b61-a1fc-9a6dbdfa9444",
   "metadata": {},
   "outputs": [
    {
     "data": {
      "text/plain": [
       "1.2344160869575869"
      ]
     },
     "execution_count": 40,
     "metadata": {},
     "output_type": "execute_result"
    }
   ],
   "source": [
    "from sklearn.metrics import r2_score,mean_absolute_error\n",
    "mean_absolute_error(yt,y_pred)"
   ]
  },
  {
   "cell_type": "code",
   "execution_count": 42,
   "id": "52693b95-f832-4e40-8069-5ce6ee3dda31",
   "metadata": {},
   "outputs": [
    {
     "data": {
      "text/plain": [
       "0.9001416005862131"
      ]
     },
     "execution_count": 42,
     "metadata": {},
     "output_type": "execute_result"
    }
   ],
   "source": [
    "r2_score(yt,y_pred)"
   ]
  },
  {
   "cell_type": "markdown",
   "id": "a7615498-8563-4760-8db1-78f026e1e1e7",
   "metadata": {},
   "source": [
    "PREDECTIVE SYSTEM \n"
   ]
  },
  {
   "cell_type": "code",
   "execution_count": 67,
   "id": "858c3383-05d7-4994-85e4-febec436f160",
   "metadata": {},
   "outputs": [],
   "source": [
    "def predict_sales( tv,rad,new):\n",
    "    featuress=np.array([[tv,rad,new]])\n",
    "    result=lr.predict(featuress).reshape(1,-1)\n",
    "    return result[0]\n",
    "    "
   ]
  },
  {
   "cell_type": "code",
   "execution_count": 55,
   "id": "bcf0d7e4-78c9-493e-ba45-41e537102899",
   "metadata": {},
   "outputs": [
    {
     "data": {
      "text/html": [
       "<div>\n",
       "<style scoped>\n",
       "    .dataframe tbody tr th:only-of-type {\n",
       "        vertical-align: middle;\n",
       "    }\n",
       "\n",
       "    .dataframe tbody tr th {\n",
       "        vertical-align: top;\n",
       "    }\n",
       "\n",
       "    .dataframe thead th {\n",
       "        text-align: right;\n",
       "    }\n",
       "</style>\n",
       "<table border=\"1\" class=\"dataframe\">\n",
       "  <thead>\n",
       "    <tr style=\"text-align: right;\">\n",
       "      <th></th>\n",
       "      <th>TV</th>\n",
       "      <th>Radio</th>\n",
       "      <th>Newspaper</th>\n",
       "      <th>Sales</th>\n",
       "    </tr>\n",
       "  </thead>\n",
       "  <tbody>\n",
       "    <tr>\n",
       "      <th>0</th>\n",
       "      <td>230.1</td>\n",
       "      <td>37.8</td>\n",
       "      <td>69.2</td>\n",
       "      <td>22.1</td>\n",
       "    </tr>\n",
       "    <tr>\n",
       "      <th>1</th>\n",
       "      <td>44.5</td>\n",
       "      <td>39.3</td>\n",
       "      <td>45.1</td>\n",
       "      <td>10.4</td>\n",
       "    </tr>\n",
       "    <tr>\n",
       "      <th>2</th>\n",
       "      <td>17.2</td>\n",
       "      <td>45.9</td>\n",
       "      <td>69.3</td>\n",
       "      <td>12.0</td>\n",
       "    </tr>\n",
       "    <tr>\n",
       "      <th>3</th>\n",
       "      <td>151.5</td>\n",
       "      <td>41.3</td>\n",
       "      <td>58.5</td>\n",
       "      <td>16.5</td>\n",
       "    </tr>\n",
       "    <tr>\n",
       "      <th>4</th>\n",
       "      <td>180.8</td>\n",
       "      <td>10.8</td>\n",
       "      <td>58.4</td>\n",
       "      <td>17.9</td>\n",
       "    </tr>\n",
       "  </tbody>\n",
       "</table>\n",
       "</div>"
      ],
      "text/plain": [
       "      TV  Radio  Newspaper  Sales\n",
       "0  230.1   37.8       69.2   22.1\n",
       "1   44.5   39.3       45.1   10.4\n",
       "2   17.2   45.9       69.3   12.0\n",
       "3  151.5   41.3       58.5   16.5\n",
       "4  180.8   10.8       58.4   17.9"
      ]
     },
     "execution_count": 55,
     "metadata": {},
     "output_type": "execute_result"
    }
   ],
   "source": [
    "df.head()\n"
   ]
  },
  {
   "cell_type": "code",
   "execution_count": 51,
   "id": "ef77ec22-acb9-4d1a-b7a5-04a69d87e096",
   "metadata": {},
   "outputs": [
    {
     "data": {
      "text/plain": [
       "TV           230.1\n",
       "Radio         37.8\n",
       "Newspaper     69.2\n",
       "Sales         22.1\n",
       "Name: 0, dtype: float64"
      ]
     },
     "execution_count": 51,
     "metadata": {},
     "output_type": "execute_result"
    }
   ],
   "source": [
    "df.iloc[0]"
   ]
  },
  {
   "cell_type": "code",
   "execution_count": 69,
   "id": "617c8e5e-973c-4101-ae6a-eebf7ba1177f",
   "metadata": {},
   "outputs": [
    {
     "name": "stderr",
     "output_type": "stream",
     "text": [
      "C:\\ProgramData\\anaconda3\\Lib\\site-packages\\sklearn\\base.py:493: UserWarning: X does not have valid feature names, but LinearRegression was fitted with feature names\n",
      "  warnings.warn(\n"
     ]
    },
    {
     "data": {
      "text/plain": [
       "array([21.37254028])"
      ]
     },
     "execution_count": 69,
     "metadata": {},
     "output_type": "execute_result"
    }
   ],
   "source": [
    "sale=predict_sales( 230.1,37.8,69.2)\n",
    "sale"
   ]
  },
  {
   "cell_type": "markdown",
   "id": "db1a1965-600e-4b6c-954a-a0dc4bffd547",
   "metadata": {},
   "source": [
    "Converting model in file"
   ]
  },
  {
   "cell_type": "code",
   "execution_count": 74,
   "id": "193ea536-2421-4ea4-bb4d-b3a25a8abffa",
   "metadata": {},
   "outputs": [],
   "source": [
    "import pickle"
   ]
  },
  {
   "cell_type": "code",
   "execution_count": 76,
   "id": "413c0803-6f81-4f54-b5d8-b9da44e5ac5f",
   "metadata": {},
   "outputs": [],
   "source": [
    "pickle.dump(lr,open(\"linear_regrssion_model.pkl\",\"wb\"))"
   ]
  },
  {
   "cell_type": "code",
   "execution_count": null,
   "id": "d4b24d78-992c-47c6-a19a-8f7121f6fe9d",
   "metadata": {},
   "outputs": [],
   "source": []
  }
 ],
 "metadata": {
  "kernelspec": {
   "display_name": "Python [conda env:base] *",
   "language": "python",
   "name": "conda-base-py"
  },
  "language_info": {
   "codemirror_mode": {
    "name": "ipython",
    "version": 3
   },
   "file_extension": ".py",
   "mimetype": "text/x-python",
   "name": "python",
   "nbconvert_exporter": "python",
   "pygments_lexer": "ipython3",
   "version": "3.12.7"
  }
 },
 "nbformat": 4,
 "nbformat_minor": 5
}
